{
 "cells": [
  {
   "cell_type": "markdown",
   "id": "6c5f48d7",
   "metadata": {},
   "source": [
    "# Detecting Fraudulent Credit Card Transactions"
   ]
  },
  {
   "cell_type": "markdown",
   "id": "40af8b1a",
   "metadata": {},
   "source": [
    "In this project, we will use the creditcard.csv dataset from Kaggle to create a model to predict fraudulent credit card transactions. This dataset contains credit card transactions in September 2013 for European cardholders. First, we will import kagglehub in order to download the data source and store it in my C Drive. Source: https://www.kaggle.com/datasets/mlg-ulb/creditcardfraud/data"
   ]
  },
  {
   "cell_type": "code",
   "execution_count": 22,
   "id": "32376987",
   "metadata": {},
   "outputs": [],
   "source": [
    "# Import all the necessary libraries\n",
    "import pandas as pd\n",
    "import numpy as np\n",
    "import matplotlib.pyplot as plt\n",
    "import seaborn as sns\n",
    "from sklearn.model_selection import train_test_split, cross_val_score, GridSearchCV\n",
    "from sklearn.linear_model import LogisticRegression, Ridge\n",
    "from sklearn.metrics import accuracy_score"
   ]
  },
  {
   "cell_type": "code",
   "execution_count": 3,
   "id": "eab8b4d4",
   "metadata": {},
   "outputs": [
    {
     "name": "stdout",
     "output_type": "stream",
     "text": [
      "Path to dataset files: C:\\Users\\sarah\\.cache\\kagglehub\\datasets\\mlg-ulb\\creditcardfraud\\versions\\3\n"
     ]
    }
   ],
   "source": [
    "# Next, let's download the dataset from Kaggle\n",
    "import kagglehub\n",
    "\n",
    "# Download latest version\n",
    "source_path = kagglehub.dataset_download(\"mlg-ulb/creditcardfraud\")\n",
    "print(\"Path to dataset files:\", source_path)"
   ]
  },
  {
   "cell_type": "markdown",
   "id": "fdd0fba5",
   "metadata": {},
   "source": [
    "Next, we will load the dataset into pandas data frame."
   ]
  },
  {
   "cell_type": "code",
   "execution_count": 4,
   "id": "256c80b3",
   "metadata": {},
   "outputs": [],
   "source": [
    "# Load the dataset\n",
    "df = pd.read_csv(f\"{source_path}\\creditcard.csv\")"
   ]
  },
  {
   "cell_type": "code",
   "execution_count": 5,
   "id": "c7b4147e",
   "metadata": {},
   "outputs": [
    {
     "name": "stdout",
     "output_type": "stream",
     "text": [
      "   Time        V1        V2        V3        V4        V5        V6        V7   \n",
      "0   0.0 -1.359807 -0.072781  2.536347  1.378155 -0.338321  0.462388  0.239599  \\\n",
      "1   0.0  1.191857  0.266151  0.166480  0.448154  0.060018 -0.082361 -0.078803   \n",
      "2   1.0 -1.358354 -1.340163  1.773209  0.379780 -0.503198  1.800499  0.791461   \n",
      "3   1.0 -0.966272 -0.185226  1.792993 -0.863291 -0.010309  1.247203  0.237609   \n",
      "4   2.0 -1.158233  0.877737  1.548718  0.403034 -0.407193  0.095921  0.592941   \n",
      "\n",
      "         V8        V9  ...       V21       V22       V23       V24       V25   \n",
      "0  0.098698  0.363787  ... -0.018307  0.277838 -0.110474  0.066928  0.128539  \\\n",
      "1  0.085102 -0.255425  ... -0.225775 -0.638672  0.101288 -0.339846  0.167170   \n",
      "2  0.247676 -1.514654  ...  0.247998  0.771679  0.909412 -0.689281 -0.327642   \n",
      "3  0.377436 -1.387024  ... -0.108300  0.005274 -0.190321 -1.175575  0.647376   \n",
      "4 -0.270533  0.817739  ... -0.009431  0.798278 -0.137458  0.141267 -0.206010   \n",
      "\n",
      "        V26       V27       V28  Amount  Class  \n",
      "0 -0.189115  0.133558 -0.021053  149.62      0  \n",
      "1  0.125895 -0.008983  0.014724    2.69      0  \n",
      "2 -0.139097 -0.055353 -0.059752  378.66      0  \n",
      "3 -0.221929  0.062723  0.061458  123.50      0  \n",
      "4  0.502292  0.219422  0.215153   69.99      0  \n",
      "\n",
      "[5 rows x 31 columns]\n"
     ]
    }
   ],
   "source": [
    "# Display the first 5 rows of the dataset\n",
    "print(df.head())"
   ]
  },
  {
   "cell_type": "markdown",
   "id": "e9a1d069",
   "metadata": {},
   "source": [
    "Class will be our Y (target variable) whereas all other columns will be features. Per Kaggle's documentation, variables V1 through V28 have been transformed and no further information can be provided due to confidentiality issues. We will move forward with profiling our dataset.\n",
    "\n",
    "1. Get the number of rows and columns, data types, check for missing values\n",
    "2. Get a frequency of how many transactions were fraud (Class=1) vs not fraud (Class=0).\n",
    "3. Get a frequency of Time elapsed between transactions (how many 0s, 1s, 2s, etc.)"
   ]
  },
  {
   "cell_type": "code",
   "execution_count": 6,
   "id": "2672d223",
   "metadata": {},
   "outputs": [
    {
     "name": "stdout",
     "output_type": "stream",
     "text": [
      "Shape of the dataset: (284807, 31)\n"
     ]
    }
   ],
   "source": [
    "# Get the shape of the dataset\n",
    "print(\"Shape of the dataset:\", df.shape)"
   ]
  },
  {
   "cell_type": "code",
   "execution_count": 7,
   "id": "adc677e7",
   "metadata": {},
   "outputs": [
    {
     "name": "stdout",
     "output_type": "stream",
     "text": [
      "Data types of the columns: Time      float64\n",
      "V1        float64\n",
      "V2        float64\n",
      "V3        float64\n",
      "V4        float64\n",
      "V5        float64\n",
      "V6        float64\n",
      "V7        float64\n",
      "V8        float64\n",
      "V9        float64\n",
      "V10       float64\n",
      "V11       float64\n",
      "V12       float64\n",
      "V13       float64\n",
      "V14       float64\n",
      "V15       float64\n",
      "V16       float64\n",
      "V17       float64\n",
      "V18       float64\n",
      "V19       float64\n",
      "V20       float64\n",
      "V21       float64\n",
      "V22       float64\n",
      "V23       float64\n",
      "V24       float64\n",
      "V25       float64\n",
      "V26       float64\n",
      "V27       float64\n",
      "V28       float64\n",
      "Amount    float64\n",
      "Class       int64\n",
      "dtype: object\n"
     ]
    }
   ],
   "source": [
    "# Get the data types of the columns\n",
    "print(\"Data types of the columns:\" , df.dtypes)"
   ]
  },
  {
   "cell_type": "code",
   "execution_count": 8,
   "id": "b20d290b",
   "metadata": {},
   "outputs": [
    {
     "name": "stdout",
     "output_type": "stream",
     "text": [
      "Number of missing values in each column: Time      0\n",
      "V1        0\n",
      "V2        0\n",
      "V3        0\n",
      "V4        0\n",
      "V5        0\n",
      "V6        0\n",
      "V7        0\n",
      "V8        0\n",
      "V9        0\n",
      "V10       0\n",
      "V11       0\n",
      "V12       0\n",
      "V13       0\n",
      "V14       0\n",
      "V15       0\n",
      "V16       0\n",
      "V17       0\n",
      "V18       0\n",
      "V19       0\n",
      "V20       0\n",
      "V21       0\n",
      "V22       0\n",
      "V23       0\n",
      "V24       0\n",
      "V25       0\n",
      "V26       0\n",
      "V27       0\n",
      "V28       0\n",
      "Amount    0\n",
      "Class     0\n",
      "dtype: int64\n"
     ]
    }
   ],
   "source": [
    "# Get the number of missing values in each column\n",
    "print(\"Number of missing values in each column:\", df.isnull().sum())"
   ]
  },
  {
   "cell_type": "code",
   "execution_count": 9,
   "id": "bb4b9f54",
   "metadata": {},
   "outputs": [
    {
     "name": "stdout",
     "output_type": "stream",
     "text": [
      "Frequency count of the target variable: Class\n",
      "0    284315\n",
      "1       492\n",
      "Name: count, dtype: int64\n"
     ]
    }
   ],
   "source": [
    "# Get a frequency count of the target variable\n",
    "print(\"Frequency count of the target variable:\", df['Class'].value_counts())"
   ]
  },
  {
   "cell_type": "code",
   "execution_count": 10,
   "id": "c26ba4bc",
   "metadata": {},
   "outputs": [
    {
     "name": "stdout",
     "output_type": "stream",
     "text": [
      "Frequency count of the feature Time: Time\n",
      "163152.0    36\n",
      "64947.0     26\n",
      "68780.0     25\n",
      "3767.0      21\n",
      "3770.0      20\n",
      "            ..\n",
      "127750.0     1\n",
      "62260.0      1\n",
      "62259.0      1\n",
      "127753.0     1\n",
      "172792.0     1\n",
      "Name: count, Length: 124592, dtype: int64\n"
     ]
    }
   ],
   "source": [
    "# Get a frequency count of the one of the features Time\n",
    "print(\"Frequency count of the feature Time:\", df['Time'].value_counts())"
   ]
  },
  {
   "cell_type": "markdown",
   "id": "119ddd14",
   "metadata": {},
   "source": [
    "## Preparing Data for Logistic Regression Analysis\n",
    "Our target variable is a binary variable (0 = not fraudulent, 1 = fraudulent), which indicates that we should use the logistic regression model to predict the odds of a fraudulent transaction."
   ]
  },
  {
   "cell_type": "markdown",
   "id": "9fed3852",
   "metadata": {},
   "source": [
    "First, we'll divide our data into x_data and y_data parameters. Our x_data will contain all attributes we're using to predict the target ('Class'), and the y_data will be the target 'Class'."
   ]
  },
  {
   "cell_type": "code",
   "execution_count": 11,
   "id": "edd42c54",
   "metadata": {},
   "outputs": [],
   "source": [
    "y_data = df['Class']\n",
    "x_data = df.drop('Class', axis=1) #specify axis = 1 to drop the 'Class' column"
   ]
  },
  {
   "cell_type": "markdown",
   "id": "460353ab",
   "metadata": {},
   "source": [
    "Based on recommended industry practices, we will proceed with a 90:10 train test split ratio for logistic regression.\n",
    "Source: doi: 10.7717/peerj-cs.2245\n",
    "https://pmc.ncbi.nlm.nih.gov/articles/PMC11419616"
   ]
  },
  {
   "cell_type": "code",
   "execution_count": 32,
   "id": "408dc439",
   "metadata": {},
   "outputs": [
    {
     "name": "stdout",
     "output_type": "stream",
     "text": [
      "Number of training records: 256326\n",
      "Number of test records: 28481\n"
     ]
    }
   ],
   "source": [
    "# create training and test dataset for logistic regression\n",
    "x_train, x_test, y_train, y_test = train_test_split(x_data, y_data, test_size=0.10, random_state=42)\n",
    "print(\"Number of training records:\",x_train.shape[0])\n",
    "print(\"Number of test records:\", x_test.shape[0])"
   ]
  },
  {
   "cell_type": "markdown",
   "id": "73979b36",
   "metadata": {},
   "source": [
    "Create mutliple arrays and reshape x_train for each feature."
   ]
  },
  {
   "cell_type": "code",
   "execution_count": 52,
   "id": "7dbb5633",
   "metadata": {},
   "outputs": [],
   "source": [
    "# create variable for V1 from the training dataset\n",
    "x_train_v1 = x_train['V1'].values.reshape(-1, 1)\n",
    "# create variable for V1 from the test dataset\n",
    "x_test_v1 = x_test['V1'].values.reshape(-1, 1)\n",
    "# create variable for V2 from the training dataset\n",
    "x_train_v2 = x_train['V2'].values.reshape(-1, 1)\n",
    "# create variable for V2 from the test dataset\n",
    "x_test_v2 = x_test['V2'].values.reshape(-1, 1)"
   ]
  },
  {
   "cell_type": "markdown",
   "id": "2a4ac0e2",
   "metadata": {},
   "source": [
    "Let's create the logistic regression object."
   ]
  },
  {
   "cell_type": "code",
   "execution_count": 53,
   "id": "df97cbc4",
   "metadata": {},
   "outputs": [
    {
     "data": {
      "text/html": [
       "<style>#sk-container-id-9 {color: black;background-color: white;}#sk-container-id-9 pre{padding: 0;}#sk-container-id-9 div.sk-toggleable {background-color: white;}#sk-container-id-9 label.sk-toggleable__label {cursor: pointer;display: block;width: 100%;margin-bottom: 0;padding: 0.3em;box-sizing: border-box;text-align: center;}#sk-container-id-9 label.sk-toggleable__label-arrow:before {content: \"▸\";float: left;margin-right: 0.25em;color: #696969;}#sk-container-id-9 label.sk-toggleable__label-arrow:hover:before {color: black;}#sk-container-id-9 div.sk-estimator:hover label.sk-toggleable__label-arrow:before {color: black;}#sk-container-id-9 div.sk-toggleable__content {max-height: 0;max-width: 0;overflow: hidden;text-align: left;background-color: #f0f8ff;}#sk-container-id-9 div.sk-toggleable__content pre {margin: 0.2em;color: black;border-radius: 0.25em;background-color: #f0f8ff;}#sk-container-id-9 input.sk-toggleable__control:checked~div.sk-toggleable__content {max-height: 200px;max-width: 100%;overflow: auto;}#sk-container-id-9 input.sk-toggleable__control:checked~label.sk-toggleable__label-arrow:before {content: \"▾\";}#sk-container-id-9 div.sk-estimator input.sk-toggleable__control:checked~label.sk-toggleable__label {background-color: #d4ebff;}#sk-container-id-9 div.sk-label input.sk-toggleable__control:checked~label.sk-toggleable__label {background-color: #d4ebff;}#sk-container-id-9 input.sk-hidden--visually {border: 0;clip: rect(1px 1px 1px 1px);clip: rect(1px, 1px, 1px, 1px);height: 1px;margin: -1px;overflow: hidden;padding: 0;position: absolute;width: 1px;}#sk-container-id-9 div.sk-estimator {font-family: monospace;background-color: #f0f8ff;border: 1px dotted black;border-radius: 0.25em;box-sizing: border-box;margin-bottom: 0.5em;}#sk-container-id-9 div.sk-estimator:hover {background-color: #d4ebff;}#sk-container-id-9 div.sk-parallel-item::after {content: \"\";width: 100%;border-bottom: 1px solid gray;flex-grow: 1;}#sk-container-id-9 div.sk-label:hover label.sk-toggleable__label {background-color: #d4ebff;}#sk-container-id-9 div.sk-serial::before {content: \"\";position: absolute;border-left: 1px solid gray;box-sizing: border-box;top: 0;bottom: 0;left: 50%;z-index: 0;}#sk-container-id-9 div.sk-serial {display: flex;flex-direction: column;align-items: center;background-color: white;padding-right: 0.2em;padding-left: 0.2em;position: relative;}#sk-container-id-9 div.sk-item {position: relative;z-index: 1;}#sk-container-id-9 div.sk-parallel {display: flex;align-items: stretch;justify-content: center;background-color: white;position: relative;}#sk-container-id-9 div.sk-item::before, #sk-container-id-9 div.sk-parallel-item::before {content: \"\";position: absolute;border-left: 1px solid gray;box-sizing: border-box;top: 0;bottom: 0;left: 50%;z-index: -1;}#sk-container-id-9 div.sk-parallel-item {display: flex;flex-direction: column;z-index: 1;position: relative;background-color: white;}#sk-container-id-9 div.sk-parallel-item:first-child::after {align-self: flex-end;width: 50%;}#sk-container-id-9 div.sk-parallel-item:last-child::after {align-self: flex-start;width: 50%;}#sk-container-id-9 div.sk-parallel-item:only-child::after {width: 0;}#sk-container-id-9 div.sk-dashed-wrapped {border: 1px dashed gray;margin: 0 0.4em 0.5em 0.4em;box-sizing: border-box;padding-bottom: 0.4em;background-color: white;}#sk-container-id-9 div.sk-label label {font-family: monospace;font-weight: bold;display: inline-block;line-height: 1.2em;}#sk-container-id-9 div.sk-label-container {text-align: center;}#sk-container-id-9 div.sk-container {/* jupyter's `normalize.less` sets `[hidden] { display: none; }` but bootstrap.min.css set `[hidden] { display: none !important; }` so we also need the `!important` here to be able to override the default hidden behavior on the sphinx rendered scikit-learn.org. See: https://github.com/scikit-learn/scikit-learn/issues/21755 */display: inline-block !important;position: relative;}#sk-container-id-9 div.sk-text-repr-fallback {display: none;}</style><div id=\"sk-container-id-9\" class=\"sk-top-container\"><div class=\"sk-text-repr-fallback\"><pre>LogisticRegression(max_iter=1000)</pre><b>In a Jupyter environment, please rerun this cell to show the HTML representation or trust the notebook. <br />On GitHub, the HTML representation is unable to render, please try loading this page with nbviewer.org.</b></div><div class=\"sk-container\" hidden><div class=\"sk-item\"><div class=\"sk-estimator sk-toggleable\"><input class=\"sk-toggleable__control sk-hidden--visually\" id=\"sk-estimator-id-9\" type=\"checkbox\" checked><label for=\"sk-estimator-id-9\" class=\"sk-toggleable__label sk-toggleable__label-arrow\">LogisticRegression</label><div class=\"sk-toggleable__content\"><pre>LogisticRegression(max_iter=1000)</pre></div></div></div></div></div>"
      ],
      "text/plain": [
       "LogisticRegression(max_iter=1000)"
      ]
     },
     "execution_count": 53,
     "metadata": {},
     "output_type": "execute_result"
    }
   ],
   "source": [
    "# logm = LogisticRegression()\n",
    "logm = LogisticRegression(max_iter=1000)  # Increase max_iter to 1000 to allow model to converge\n",
    "logm"
   ]
  },
  {
   "cell_type": "markdown",
   "id": "d71f51ef",
   "metadata": {},
   "source": [
    "Now, we create and train/fit the linear model, starting with feature V1."
   ]
  },
  {
   "cell_type": "code",
   "execution_count": 54,
   "id": "2f9b6f9e",
   "metadata": {},
   "outputs": [
    {
     "data": {
      "text/html": [
       "<style>#sk-container-id-10 {color: black;background-color: white;}#sk-container-id-10 pre{padding: 0;}#sk-container-id-10 div.sk-toggleable {background-color: white;}#sk-container-id-10 label.sk-toggleable__label {cursor: pointer;display: block;width: 100%;margin-bottom: 0;padding: 0.3em;box-sizing: border-box;text-align: center;}#sk-container-id-10 label.sk-toggleable__label-arrow:before {content: \"▸\";float: left;margin-right: 0.25em;color: #696969;}#sk-container-id-10 label.sk-toggleable__label-arrow:hover:before {color: black;}#sk-container-id-10 div.sk-estimator:hover label.sk-toggleable__label-arrow:before {color: black;}#sk-container-id-10 div.sk-toggleable__content {max-height: 0;max-width: 0;overflow: hidden;text-align: left;background-color: #f0f8ff;}#sk-container-id-10 div.sk-toggleable__content pre {margin: 0.2em;color: black;border-radius: 0.25em;background-color: #f0f8ff;}#sk-container-id-10 input.sk-toggleable__control:checked~div.sk-toggleable__content {max-height: 200px;max-width: 100%;overflow: auto;}#sk-container-id-10 input.sk-toggleable__control:checked~label.sk-toggleable__label-arrow:before {content: \"▾\";}#sk-container-id-10 div.sk-estimator input.sk-toggleable__control:checked~label.sk-toggleable__label {background-color: #d4ebff;}#sk-container-id-10 div.sk-label input.sk-toggleable__control:checked~label.sk-toggleable__label {background-color: #d4ebff;}#sk-container-id-10 input.sk-hidden--visually {border: 0;clip: rect(1px 1px 1px 1px);clip: rect(1px, 1px, 1px, 1px);height: 1px;margin: -1px;overflow: hidden;padding: 0;position: absolute;width: 1px;}#sk-container-id-10 div.sk-estimator {font-family: monospace;background-color: #f0f8ff;border: 1px dotted black;border-radius: 0.25em;box-sizing: border-box;margin-bottom: 0.5em;}#sk-container-id-10 div.sk-estimator:hover {background-color: #d4ebff;}#sk-container-id-10 div.sk-parallel-item::after {content: \"\";width: 100%;border-bottom: 1px solid gray;flex-grow: 1;}#sk-container-id-10 div.sk-label:hover label.sk-toggleable__label {background-color: #d4ebff;}#sk-container-id-10 div.sk-serial::before {content: \"\";position: absolute;border-left: 1px solid gray;box-sizing: border-box;top: 0;bottom: 0;left: 50%;z-index: 0;}#sk-container-id-10 div.sk-serial {display: flex;flex-direction: column;align-items: center;background-color: white;padding-right: 0.2em;padding-left: 0.2em;position: relative;}#sk-container-id-10 div.sk-item {position: relative;z-index: 1;}#sk-container-id-10 div.sk-parallel {display: flex;align-items: stretch;justify-content: center;background-color: white;position: relative;}#sk-container-id-10 div.sk-item::before, #sk-container-id-10 div.sk-parallel-item::before {content: \"\";position: absolute;border-left: 1px solid gray;box-sizing: border-box;top: 0;bottom: 0;left: 50%;z-index: -1;}#sk-container-id-10 div.sk-parallel-item {display: flex;flex-direction: column;z-index: 1;position: relative;background-color: white;}#sk-container-id-10 div.sk-parallel-item:first-child::after {align-self: flex-end;width: 50%;}#sk-container-id-10 div.sk-parallel-item:last-child::after {align-self: flex-start;width: 50%;}#sk-container-id-10 div.sk-parallel-item:only-child::after {width: 0;}#sk-container-id-10 div.sk-dashed-wrapped {border: 1px dashed gray;margin: 0 0.4em 0.5em 0.4em;box-sizing: border-box;padding-bottom: 0.4em;background-color: white;}#sk-container-id-10 div.sk-label label {font-family: monospace;font-weight: bold;display: inline-block;line-height: 1.2em;}#sk-container-id-10 div.sk-label-container {text-align: center;}#sk-container-id-10 div.sk-container {/* jupyter's `normalize.less` sets `[hidden] { display: none; }` but bootstrap.min.css set `[hidden] { display: none !important; }` so we also need the `!important` here to be able to override the default hidden behavior on the sphinx rendered scikit-learn.org. See: https://github.com/scikit-learn/scikit-learn/issues/21755 */display: inline-block !important;position: relative;}#sk-container-id-10 div.sk-text-repr-fallback {display: none;}</style><div id=\"sk-container-id-10\" class=\"sk-top-container\"><div class=\"sk-text-repr-fallback\"><pre>LogisticRegression(max_iter=1000)</pre><b>In a Jupyter environment, please rerun this cell to show the HTML representation or trust the notebook. <br />On GitHub, the HTML representation is unable to render, please try loading this page with nbviewer.org.</b></div><div class=\"sk-container\" hidden><div class=\"sk-item\"><div class=\"sk-estimator sk-toggleable\"><input class=\"sk-toggleable__control sk-hidden--visually\" id=\"sk-estimator-id-10\" type=\"checkbox\" checked><label for=\"sk-estimator-id-10\" class=\"sk-toggleable__label sk-toggleable__label-arrow\">LogisticRegression</label><div class=\"sk-toggleable__content\"><pre>LogisticRegression(max_iter=1000)</pre></div></div></div></div></div>"
      ],
      "text/plain": [
       "LogisticRegression(max_iter=1000)"
      ]
     },
     "execution_count": 54,
     "metadata": {},
     "output_type": "execute_result"
    }
   ],
   "source": [
    "# logm.fit(x_train, y_train)\n",
    "logm.fit(x_train_v1, y_train)"
   ]
  },
  {
   "cell_type": "markdown",
   "id": "56cdde1b",
   "metadata": {},
   "source": [
    "Let's make a prediction on the test set starting with feature V1."
   ]
  },
  {
   "cell_type": "code",
   "execution_count": 55,
   "id": "92dc665c",
   "metadata": {},
   "outputs": [],
   "source": [
    "# Make predictions on the test set\n",
    "yhat = logm.predict(x_test_v1)"
   ]
  },
  {
   "cell_type": "markdown",
   "id": "96c53991",
   "metadata": {},
   "source": [
    "Next, let's calculate the accuracy of our first logistic model."
   ]
  },
  {
   "cell_type": "code",
   "execution_count": 56,
   "id": "f5a1b963",
   "metadata": {},
   "outputs": [
    {
     "name": "stdout",
     "output_type": "stream",
     "text": [
      "Accuracy: 1.00\n"
     ]
    }
   ],
   "source": [
    "# Calculate accuracy\n",
    "accuracy = accuracy_score(y_test, yhat)\n",
    "print(f\"Accuracy: {accuracy:.2f}\")"
   ]
  },
  {
   "cell_type": "markdown",
   "id": "96b96263",
   "metadata": {},
   "source": [
    "Print the model coefficients and intercept"
   ]
  },
  {
   "cell_type": "code",
   "execution_count": 65,
   "id": "7a5e3316",
   "metadata": {},
   "outputs": [
    {
     "name": "stdout",
     "output_type": "stream",
     "text": [
      "Coefficient: -0.22\n",
      "Intercept: -6.60\n"
     ]
    }
   ],
   "source": [
    "# Print model coefficients and intercept\n",
    "print(f\"Coefficient: {logm.coef_[0][0]:.2f}\")\n",
    "print(f\"Intercept: {logm.intercept_[0]:.2f}\")"
   ]
  },
  {
   "cell_type": "markdown",
   "id": "864a7501",
   "metadata": {},
   "source": [
    "Let's now plot the logistic regression curve against the training data points."
   ]
  },
  {
   "cell_type": "code",
   "execution_count": null,
   "id": "1c0ae6cd",
   "metadata": {},
   "outputs": [
    {
     "data": {
      "image/png": "[encoded data removed]",
      "text/plain": [
       "<Figure size 800x600 with 1 Axes>"
      ]
     },
     "metadata": {},
     "output_type": "display_data"
    }
   ],
   "source": [
    "# Plot the data points and the logistic regression curve\n",
    "plt.figure(figsize=(8, 6))\n",
    "plt.scatter(x_train_v1, y_train, color='blue', label='data points')\n",
    "\n",
    "# Generate x values for plotting the sigmoid function\n",
    "X_plot = np.linspace(-60, 20, 100).reshape(-1, 1) # The values of linspace() are based on the min and max of the selected feature V1\n",
    "# Predict probabilities for the x values\n",
    "y_proba = logm.predict_proba(X_plot)[:, 1]\n",
    "plt.plot(X_plot, y_proba, color='red', label='Logistic Regression')\n",
    "\n",
    "# Set X and Y axis labels, Title and Legend\n",
    "plt.xlabel('V1')\n",
    "plt.ylabel('Class (0: Not Fraud, 1: Fraud)')\n",
    "# Plot the logistic regression curve\n",
    "plt.title('Probability of Fraudulent Transaction based on Multiple Predictors')\n",
    "plt.legend()\n",
    "plt.grid(True)\n",
    "plt.show()"
   ]
  },
  {
   "cell_type": "markdown",
   "id": "88b7ee6d",
   "metadata": {},
   "source": [
    "We can consider applying PCA (Principal Component Analysis), a dimensionality reduction technique for purposes of reducing multiple features from a multi-variate logistic regression for visualization purposes."
   ]
  },
  {
   "cell_type": "code",
   "execution_count": null,
   "id": "62c24f39",
   "metadata": {},
   "outputs": [],
   "source": [
    "# Consider using PCA (Principal Component Analysis) to reduce the dimensionality of the dataset\n",
    "# from sklearn.decomposition import PCA\n",
    "\n",
    "# # Reduce to 2 principal components\n",
    "# pca = PCA(n_components=2)\n",
    "# x_train_pca = pca.fit_transform(x_train)\n",
    "\n",
    "# # Plot the reduced data\n",
    "# plt.figure(figsize=(8, 6))\n",
    "# plt.scatter(x_train_pca[:, 0], x_train_pca[:, 1], c=y_train, cmap='viridis', label='Data Points')\n",
    "# plt.xlabel('Principal Component 1')\n",
    "# plt.ylabel('Principal Component 2')\n",
    "# plt.title('Probability of Fraudulent Transaction with PCA')\n",
    "# plt.colorbar(label='Class')\n",
    "# plt.grid(True)\n",
    "# plt.show()"
   ]
  }
 ],
 "metadata": {
  "kernelspec": {
   "display_name": "Python 3",
   "language": "python",
   "name": "python3"
  },
  "language_info": {
   "codemirror_mode": {
    "name": "ipython",
    "version": 3
   },
   "file_extension": ".py",
   "mimetype": "text/x-python",
   "name": "python",
   "nbconvert_exporter": "python",
   "pygments_lexer": "ipython3",
   "version": "3.11.9"
  }
 },
 "nbformat": 4,
 "nbformat_minor": 5
}
